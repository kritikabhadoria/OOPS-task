{
 "cells": [
  {
   "cell_type": "markdown",
   "id": "92cec9b0-5733-4240-8aad-b151dfb86d00",
   "metadata": {},
   "source": [
    "Q1, Create a vehicle class with an init method having instance variables as name_of_vehicle, max_speed\n",
    "and average_of_vehicle."
   ]
  },
  {
   "cell_type": "code",
   "execution_count": 28,
   "id": "eefbf3b1-d773-4d3c-beae-b786df822940",
   "metadata": {},
   "outputs": [],
   "source": [
    "class vehicle:\n",
    "    def __init__(self, name, max_speed, average_speed):\n",
    "        self.name = name\n",
    "        self.max_speed = max_speed\n",
    "        self.average_speed = average_speed"
   ]
  },
  {
   "cell_type": "code",
   "execution_count": 29,
   "id": "042b1e1d-5595-4a4b-af89-ab32182e5cbd",
   "metadata": {},
   "outputs": [],
   "source": [
    "v = vehicle(\"car\", 200, 80)"
   ]
  },
  {
   "cell_type": "code",
   "execution_count": 30,
   "id": "8fa2562d-ed90-4785-b10e-c621daa314a0",
   "metadata": {},
   "outputs": [
    {
     "data": {
      "text/plain": [
       "80"
      ]
     },
     "execution_count": 30,
     "metadata": {},
     "output_type": "execute_result"
    }
   ],
   "source": [
    "v.average_speed"
   ]
  },
  {
   "cell_type": "code",
   "execution_count": 31,
   "id": "adb39a0d-780e-47dd-a346-a43f10368be9",
   "metadata": {},
   "outputs": [
    {
     "data": {
      "text/plain": [
       "200"
      ]
     },
     "execution_count": 31,
     "metadata": {},
     "output_type": "execute_result"
    }
   ],
   "source": [
    "v.max_speed"
   ]
  },
  {
   "cell_type": "code",
   "execution_count": 32,
   "id": "376af0cf-020e-443b-9083-cd711bf473a8",
   "metadata": {},
   "outputs": [
    {
     "data": {
      "text/plain": [
       "'car'"
      ]
     },
     "execution_count": 32,
     "metadata": {},
     "output_type": "execute_result"
    }
   ],
   "source": [
    "v.name"
   ]
  },
  {
   "cell_type": "markdown",
   "id": "261300b6-1cb1-4479-96be-ca526e6ae81b",
   "metadata": {},
   "source": [
    "Q2. Create a child class car from the vehicle class created in Que 1, which will inherit the vehicle class.\n",
    "Create a method named seating_capacity which takes capacity as an argument and returns the name of\n",
    "the vehicle and its seating capacity."
   ]
  },
  {
   "cell_type": "code",
   "execution_count": 33,
   "id": "c4023576-b4ba-45f2-8112-207760d412f8",
   "metadata": {},
   "outputs": [],
   "source": [
    "class vehicle:\n",
    "    def __init__(self, name, max_speed, average_speed):\n",
    "        self.name = name\n",
    "        self.max_speed = max_speed\n",
    "        self.average_speed = average_speed\n",
    "\n",
    "class car(vehicle):\n",
    "    def seating_capacity(self, capacity):\n",
    "        return capacity"
   ]
  },
  {
   "cell_type": "code",
   "execution_count": 34,
   "id": "50775587-0a01-4b71-9638-97b52314bf63",
   "metadata": {},
   "outputs": [],
   "source": [
    "my_car = car(\"Toyota camry\", 200, 80)"
   ]
  },
  {
   "cell_type": "code",
   "execution_count": 38,
   "id": "0fa09549-9370-4385-be2d-5dda7c98ec86",
   "metadata": {},
   "outputs": [
    {
     "data": {
      "text/plain": [
       "'Toyota camry'"
      ]
     },
     "execution_count": 38,
     "metadata": {},
     "output_type": "execute_result"
    }
   ],
   "source": [
    "my_car.name"
   ]
  },
  {
   "cell_type": "code",
   "execution_count": 44,
   "id": "c653eed6-9ac9-4f65-b998-5c704bb5525e",
   "metadata": {},
   "outputs": [
    {
     "data": {
      "text/plain": [
       "5"
      ]
     },
     "execution_count": 44,
     "metadata": {},
     "output_type": "execute_result"
    }
   ],
   "source": [
    "my_car.seating_capacity(5)"
   ]
  },
  {
   "cell_type": "markdown",
   "id": "e2116a65-245f-4e8d-8f14-90ab9516d76f",
   "metadata": {},
   "source": [
    "Q3. What is multiple inheritance? Write a python code to demonstrate multiple inheritance.\n",
    "\n",
    "Answer - Multiple inheritance is a feature in object-oriented programming where a class can inherit attributes and methods frpm multiple parent classes."
   ]
  },
  {
   "cell_type": "code",
   "execution_count": 51,
   "id": "3838214f-d8ba-4809-a5e7-c88dcf54c293",
   "metadata": {},
   "outputs": [],
   "source": [
    "class class1:\n",
    "    \n",
    "    def test_class1(self):\n",
    "        return \"this is a class1\""
   ]
  },
  {
   "cell_type": "code",
   "execution_count": 52,
   "id": "3c559e0e-be07-429c-8d13-29d68442cca6",
   "metadata": {},
   "outputs": [],
   "source": [
    "class class2:\n",
    "    \n",
    "    def test_class2(self):\n",
    "        return \"this is class2\""
   ]
  },
  {
   "cell_type": "code",
   "execution_count": 53,
   "id": "28fb6af2-5c7e-477a-ade0-5aaeefa6776c",
   "metadata": {},
   "outputs": [],
   "source": [
    "class class3(class1 , class2):\n",
    "    pass"
   ]
  },
  {
   "cell_type": "code",
   "execution_count": 54,
   "id": "f2905e7d-dbae-47b3-8e93-68bd9e5dfa2f",
   "metadata": {},
   "outputs": [],
   "source": [
    "obj_class3 = class3()"
   ]
  },
  {
   "cell_type": "code",
   "execution_count": 56,
   "id": "8039e55f-df00-4b0b-a694-bc5fcf1fa01e",
   "metadata": {},
   "outputs": [
    {
     "data": {
      "text/plain": [
       "'this is a class1'"
      ]
     },
     "execution_count": 56,
     "metadata": {},
     "output_type": "execute_result"
    }
   ],
   "source": [
    "obj_class3.test_class1()"
   ]
  },
  {
   "cell_type": "code",
   "execution_count": 58,
   "id": "03cf7362-4917-4dfd-890d-d91e0feab36b",
   "metadata": {},
   "outputs": [
    {
     "data": {
      "text/plain": [
       "'this is class2'"
      ]
     },
     "execution_count": 58,
     "metadata": {},
     "output_type": "execute_result"
    }
   ],
   "source": [
    "obj_class3.test_class2()"
   ]
  },
  {
   "cell_type": "markdown",
   "id": "42929b71-ae36-4525-96c0-d433e73caf45",
   "metadata": {},
   "source": [
    "Q4. What are getter and setter in python? Create a class and create a getter and a setter method in this\n",
    "class.\n",
    "\n",
    "Answer- In Python, getters and setters are methods used to access and modify the attributes or properties of a class"
   ]
  },
  {
   "cell_type": "code",
   "execution_count": null,
   "id": "7585dc83-c330-4fda-9e94-ab92303ce294",
   "metadata": {},
   "outputs": [],
   "source": [
    "class MyClass:\n",
    "    def __init__(self):\n",
    "        self._my_attribute = None  # Private variable, denoted by a single underscore\n",
    "\n",
    "    def get_my_attribute(self):\n",
    "        return self._my_attribute\n",
    "\n",
    "    def set_my_attribute(self, value):\n",
    "        self._my_attribute = value"
   ]
  },
  {
   "cell_type": "code",
   "execution_count": null,
   "id": "14922cd3-d4cc-4c89-b12e-f30b014e141b",
   "metadata": {},
   "outputs": [],
   "source": [
    "my_object = MyClass()\n",
    "\n",
    "# Using the setter to update the attribute\n",
    "my_object.set_my_attribute(42)\n",
    "\n",
    "# Using the getter to retrieve the attribute\n",
    "attribute_value = my_object.get_my_attribute()\n",
    "print(attribute_value)  # Output: 42\n"
   ]
  },
  {
   "cell_type": "markdown",
   "id": "336519f3-e3ef-4d0a-b327-e79a0b3d0878",
   "metadata": {},
   "source": [
    "Q5.What is method overriding in python? Write a python code to demonstrate method overriding.\n",
    "\n",
    "Answer - Method overriding ia a feature in object- oriented programming where a subclass provides its own implementation of a method that is already defined in its parent class."
   ]
  },
  {
   "cell_type": "code",
   "execution_count": 59,
   "id": "15e2ce22-25d7-43b3-9c64-d61b90da1213",
   "metadata": {},
   "outputs": [],
   "source": [
    "class vehicle:\n",
    "    def __init__ (self, name):\n",
    "        self.name = name\n",
    "        \n",
    "class car(vehicle):\n",
    "    def __init__(self , name):\n",
    "        super() .__init__(name)"
   ]
  },
  {
   "cell_type": "code",
   "execution_count": 60,
   "id": "afb109e8-72b2-4239-b025-1780df952cd6",
   "metadata": {},
   "outputs": [],
   "source": [
    "my_vehicle = vehicle(\"Generic vehicle\")"
   ]
  },
  {
   "cell_type": "code",
   "execution_count": 61,
   "id": "bad2ddd1-1f4f-4d09-958b-290d8940aa9f",
   "metadata": {},
   "outputs": [],
   "source": [
    "my_car = car(\"Toyota Camry\")"
   ]
  },
  {
   "cell_type": "code",
   "execution_count": null,
   "id": "a9a866c4-f325-44ef-8a3f-47cbad02a5f7",
   "metadata": {},
   "outputs": [],
   "source": []
  }
 ],
 "metadata": {
  "kernelspec": {
   "display_name": "Python 3 (ipykernel)",
   "language": "python",
   "name": "python3"
  },
  "language_info": {
   "codemirror_mode": {
    "name": "ipython",
    "version": 3
   },
   "file_extension": ".py",
   "mimetype": "text/x-python",
   "name": "python",
   "nbconvert_exporter": "python",
   "pygments_lexer": "ipython3",
   "version": "3.10.8"
  }
 },
 "nbformat": 4,
 "nbformat_minor": 5
}
